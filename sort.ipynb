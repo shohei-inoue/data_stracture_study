{
 "cells": [
  {
   "cell_type": "markdown",
   "metadata": {},
   "source": [
    "## インデックスによるループ"
   ]
  },
  {
   "cell_type": "code",
   "execution_count": 1,
   "metadata": {},
   "outputs": [
    {
     "name": "stdout",
     "output_type": "stream",
     "text": [
      "1\n",
      "2\n",
      "3\n"
     ]
    }
   ],
   "source": [
    "my_list = [1, 2, 3]\n",
    "for val in my_list:\n",
    "    print(val)"
   ]
  },
  {
   "cell_type": "code",
   "execution_count": 2,
   "metadata": {},
   "outputs": [
    {
     "name": "stdout",
     "output_type": "stream",
     "text": [
      "1\n",
      "2\n",
      "3\n"
     ]
    }
   ],
   "source": [
    "# インデックスを使った方が, ソートの場合は良い\n",
    "my_list = [1, 2, 3]\n",
    "N = len(my_list)\n",
    "for idx in range(N):\n",
    "    print(my_list[idx])"
   ]
  },
  {
   "cell_type": "markdown",
   "metadata": {},
   "source": [
    "## 条件を満たす要素のインデックスを探すような処理はforよりwhileを利用した方が良い"
   ]
  },
  {
   "cell_type": "code",
   "execution_count": 3,
   "metadata": {},
   "outputs": [
    {
     "name": "stdout",
     "output_type": "stream",
     "text": [
      "2\n"
     ]
    }
   ],
   "source": [
    "# 4より大きい最初の要素は何番目か?\n",
    "\n",
    "my_list = [1, 3, 5, 6, 4, 2]\n",
    "idx = None\n",
    "for i in range(len(my_list)):\n",
    "    if 4 < my_list[i]:\n",
    "        idx = i\n",
    "        break\n",
    "\n",
    "print(idx)"
   ]
  },
  {
   "cell_type": "code",
   "execution_count": 4,
   "metadata": {},
   "outputs": [
    {
     "name": "stdout",
     "output_type": "stream",
     "text": [
      "2\n"
     ]
    }
   ],
   "source": [
    "my_list = [1, 3, 5, 6, 4, 2]\n",
    "n  = len(my_list)\n",
    "idx = 0\n",
    "while idx < n and my_list[idx] <= 4:\n",
    "    idx += 1\n",
    "\n",
    "print(idx)"
   ]
  },
  {
   "cell_type": "code",
   "execution_count": 5,
   "metadata": {},
   "outputs": [
    {
     "name": "stdout",
     "output_type": "stream",
     "text": [
      "3\n"
     ]
    }
   ],
   "source": [
    "my_list = [1, 3, 5, 6, 4, 2]\n",
    "n = len(my_list)\n",
    "idx = n - 1\n",
    "while idx >= 0 and my_list[idx] <= 4:\n",
    "    idx -= 2\n",
    "\n",
    "print(idx)"
   ]
  },
  {
   "cell_type": "markdown",
   "metadata": {},
   "source": [
    "## 交換"
   ]
  },
  {
   "cell_type": "code",
   "execution_count": 6,
   "metadata": {},
   "outputs": [
    {
     "name": "stdout",
     "output_type": "stream",
     "text": [
      "200 100\n"
     ]
    }
   ],
   "source": [
    "x = 100\n",
    "y = 200\n",
    "x, y = y, x\n",
    "print(x, y)"
   ]
  },
  {
   "cell_type": "code",
   "execution_count": 7,
   "metadata": {},
   "outputs": [],
   "source": [
    "my_list[0], my_list[1] = my_list[1], my_list[0]"
   ]
  },
  {
   "cell_type": "code",
   "execution_count": 8,
   "metadata": {},
   "outputs": [],
   "source": [
    "tmp = my_list[0]\n",
    "my_list[0] = my_list[1]\n",
    "my_list[1] = tmp"
   ]
  },
  {
   "cell_type": "markdown",
   "metadata": {},
   "source": [
    "## 挿入"
   ]
  },
  {
   "cell_type": "code",
   "execution_count": 10,
   "metadata": {},
   "outputs": [
    {
     "name": "stdout",
     "output_type": "stream",
     "text": [
      "[1, 3, 4, 6, 2]\n",
      "[1, 6, 3, 4, 2]\n"
     ]
    }
   ],
   "source": [
    "my_list = [1, 3, 4, 6, 2]\n",
    "print(my_list)\n",
    "\n",
    "# 3番目の要素を1番目に代入する場合\n",
    "from_idx = 3\n",
    "to_idx = 1\n",
    "\n",
    "tmp = my_list.pop(from_idx)\n",
    "my_list.insert(to_idx, tmp)\n",
    "print(my_list)"
   ]
  },
  {
   "cell_type": "code",
   "execution_count": 11,
   "metadata": {},
   "outputs": [
    {
     "name": "stdout",
     "output_type": "stream",
     "text": [
      "[1, 3, 4, 6, 2]\n",
      "[1, 3, 4, 4, 2]\n",
      "[1, 3, 3, 4, 2]\n",
      "[1, 6, 3, 4, 2]\n"
     ]
    }
   ],
   "source": [
    "# 交換を繰り返し順番にずらしていく場合\n",
    "my_list = [1, 3, 4, 6, 2]\n",
    "print(my_list)\n",
    "\n",
    "from_idx = 3\n",
    "to_idx = 1\n",
    "\n",
    "# 3番目の要素を一時的に対比される\n",
    "tmp = my_list[from_idx]\n",
    "\n",
    "# 2番目の要素から先頭に向かってループを実行\n",
    "i = from_idx - 1\n",
    "while to_idx <= i:\n",
    "    my_list[i + 1] = my_list[i]\n",
    "    print(my_list)\n",
    "    i -= 1\n",
    "\n",
    "# ずらし終わったら開いたところに捜査対象要素を設定\n",
    "my_list[i + 1] = tmp\n",
    "print(my_list)"
   ]
  },
  {
   "cell_type": "markdown",
   "metadata": {},
   "source": [
    "## 挿入ソート"
   ]
  },
  {
   "cell_type": "code",
   "execution_count": null,
   "metadata": {},
   "outputs": [],
   "source": [
    "def insertion_sort(my_list):\n",
    "    for i in range(1, len(my_list)):\n",
    "        # i番目の要素をソート対象として取り出す\n",
    "        target = my_list[i]\n"
   ]
  },
  {
   "cell_type": "markdown",
   "metadata": {},
   "source": [
    "### 挿入位置を探す"
   ]
  },
  {
   "cell_type": "code",
   "execution_count": 12,
   "metadata": {},
   "outputs": [
    {
     "name": "stdout",
     "output_type": "stream",
     "text": [
      "[1, 3, 4, 6, 6]\n",
      "[1, 3, 4, 4, 6]\n",
      "[1, 3, 3, 4, 6]\n",
      "[1, 2, 3, 4, 6]\n"
     ]
    }
   ],
   "source": [
    "my_list = [1, 3, 4, 6, 2]\n",
    "target = my_list[4]\n",
    "\n",
    "# 捜査対象の要素より小さい値を持つ要素が見つかるまで一つ右にずらす\n",
    "j = 3 # 要素の手前から処理を行う\n",
    "while 0 <= j and target < my_list[j]:\n",
    "    my_list[j + 1] = my_list[j]\n",
    "    print(my_list)\n",
    "    j -= 1\n",
    "\n",
    "# スラし終わったら開いたところに捜査対象要素を設定\n",
    "my_list[j + 1] = target\n",
    "print(my_list)"
   ]
  },
  {
   "cell_type": "code",
   "execution_count": 14,
   "metadata": {},
   "outputs": [
    {
     "name": "stdout",
     "output_type": "stream",
     "text": [
      "[6, 1, 4, 3, 2, 9, 8, 5, 10, 7]\n",
      "[1, 6, 4, 3, 2, 9, 8, 5, 10, 7]\n",
      "[1, 4, 6, 3, 2, 9, 8, 5, 10, 7]\n",
      "[1, 3, 4, 6, 2, 9, 8, 5, 10, 7]\n",
      "[1, 2, 3, 4, 6, 9, 8, 5, 10, 7]\n",
      "[1, 2, 3, 4, 6, 9, 8, 5, 10, 7]\n",
      "[1, 2, 3, 4, 6, 8, 9, 5, 10, 7]\n",
      "[1, 2, 3, 4, 5, 6, 8, 9, 10, 7]\n",
      "[1, 2, 3, 4, 5, 6, 8, 9, 10, 7]\n",
      "[1, 2, 3, 4, 5, 6, 7, 8, 9, 10]\n",
      "[1, 2, 3, 4, 5, 6, 7, 8, 9, 10]\n"
     ]
    }
   ],
   "source": [
    "def insertion_sort(my_list):\n",
    "    # リストの先頭側から一つずつ操作する\n",
    "    for i in range(1, len(my_list)):\n",
    "        # i番目の要素を操作対象として取り出す\n",
    "        target = my_list[i]\n",
    "\n",
    "        # 操作対象の要素より小さい値を持つ要素が見つかるまで一つ右にずらす\n",
    "        j = i - 1\n",
    "        while 0 <= j and target < my_list[j]:\n",
    "            my_list[j + 1] = my_list[j]\n",
    "            j -= 1\n",
    "        \n",
    "        my_list[j + 1] = target\n",
    "\n",
    "        # 途中結果の確認のためダンプ\n",
    "        print(my_list)\n",
    "\n",
    "data = [6, 1, 4, 3, 2, 9, 8, 5, 10, 7]\n",
    "print(data)\n",
    "insertion_sort(data)\n",
    "print(data)"
   ]
  },
  {
   "cell_type": "markdown",
   "metadata": {},
   "source": [
    "## 選択ソート"
   ]
  },
  {
   "cell_type": "code",
   "execution_count": 15,
   "metadata": {},
   "outputs": [
    {
     "name": "stdout",
     "output_type": "stream",
     "text": [
      "7\n"
     ]
    }
   ],
   "source": [
    "my_list = [1, 2, 7, 4, 10, 8, 6, 3, 9, 5]\n",
    "n = len(my_list)\n",
    "i = 2 # 2番目から処理を行う\n",
    "target_idx = i\n",
    "for j in range(i + 1, n):\n",
    "    if my_list[j] < my_list[target_idx]:\n",
    "        target_idx = j\n",
    "\n",
    "print(target_idx)"
   ]
  },
  {
   "cell_type": "code",
   "execution_count": 16,
   "metadata": {},
   "outputs": [],
   "source": [
    "def selection_sort(my_list):\n",
    "    n = len(my_list)\n",
    "    for i in range(n):\n",
    "\n",
    "        # i~末尾までで最小のものを探し, そのindexを格納\n",
    "        target_idx = i\n",
    "        for j in range(i + 1, n):\n",
    "            if my_list[j] < my_list[target_idx]:\n",
    "                target_idx = j\n",
    "\n",
    "        # i~末尾までで最小のものをi番目のものと交換する\n",
    "        my_list[i], my_list[target_idx] = my_list[target_idx], my_list[i]\n",
    "\n",
    "        # 途中結果の確認のためのダンプ\n",
    "        print(my_list)"
   ]
  },
  {
   "cell_type": "code",
   "execution_count": 18,
   "metadata": {},
   "outputs": [
    {
     "name": "stdout",
     "output_type": "stream",
     "text": [
      "[6, 4, 7, 2, 10, 8, 1, 3, 9, 5]\n",
      "[1, 4, 7, 2, 10, 8, 6, 3, 9, 5]\n",
      "[1, 2, 7, 4, 10, 8, 6, 3, 9, 5]\n",
      "[1, 2, 3, 4, 10, 8, 6, 7, 9, 5]\n",
      "[1, 2, 3, 4, 10, 8, 6, 7, 9, 5]\n",
      "[1, 2, 3, 4, 5, 8, 6, 7, 9, 10]\n",
      "[1, 2, 3, 4, 5, 6, 8, 7, 9, 10]\n",
      "[1, 2, 3, 4, 5, 6, 7, 8, 9, 10]\n",
      "[1, 2, 3, 4, 5, 6, 7, 8, 9, 10]\n",
      "[1, 2, 3, 4, 5, 6, 7, 8, 9, 10]\n",
      "[1, 2, 3, 4, 5, 6, 7, 8, 9, 10]\n",
      "[1, 2, 3, 4, 5, 6, 7, 8, 9, 10]\n"
     ]
    }
   ],
   "source": [
    "data = [6, 4, 7, 2, 10, 8, 1, 3, 9, 5]\n",
    "print(data)\n",
    "\n",
    "selection_sort(data)\n",
    "print(data)"
   ]
  },
  {
   "cell_type": "markdown",
   "metadata": {},
   "source": [
    "## バブルソート"
   ]
  },
  {
   "cell_type": "code",
   "execution_count": 21,
   "metadata": {},
   "outputs": [
    {
     "name": "stdout",
     "output_type": "stream",
     "text": [
      "[3, 6, 10, 4, 2, 9, 8, 5, 1, 7]\n",
      "[3, 6, 4, 10, 2, 9, 8, 5, 1, 7]\n",
      "[3, 6, 4, 2, 10, 9, 8, 5, 1, 7]\n",
      "[3, 6, 4, 2, 9, 10, 8, 5, 1, 7]\n",
      "[3, 6, 4, 2, 9, 8, 10, 5, 1, 7]\n",
      "[3, 6, 4, 2, 9, 8, 5, 10, 1, 7]\n",
      "[3, 6, 4, 2, 9, 8, 5, 1, 10, 7]\n",
      "[3, 6, 4, 2, 9, 8, 5, 1, 7, 10]\n",
      "[3, 6, 4, 2, 9, 8, 5, 1, 7, 10]\n"
     ]
    }
   ],
   "source": [
    "my_list = [6, 3, 10, 4, 2, 9, 8, 5, 1, 7]\n",
    "\n",
    "for j in range(len(my_list) - 1):\n",
    "    if my_list[j] > my_list[j + 1]:\n",
    "        my_list[j], my_list[j + 1] =my_list[j + 1], my_list[j] \n",
    "        print(my_list)\n",
    "\n",
    "print(my_list)"
   ]
  },
  {
   "cell_type": "code",
   "execution_count": 23,
   "metadata": {},
   "outputs": [
    {
     "name": "stdout",
     "output_type": "stream",
     "text": [
      "[1, 2, 3, 4, 5, 6, 7, 8, 9, 10]\n"
     ]
    }
   ],
   "source": [
    "def bubble_sort(my_list):\n",
    "    n = len(my_list)\n",
    "    for i in range(n - 1):\n",
    "\n",
    "        swapped = False\n",
    "\n",
    "        for j in range( n - 1 - i):\n",
    "            if my_list[j] > my_list[j + 1]:\n",
    "                swapped = True\n",
    "                my_list[j], my_list[j + 1] = my_list[j + 1], my_list[j]\n",
    "        \n",
    "        if not swapped:\n",
    "            return \n",
    "\n",
    "data = [6, 3, 10, 4, 2, 9, 8, 5, 1, 7]\n",
    "bubble_sort(data)\n",
    "print(data)"
   ]
  },
  {
   "cell_type": "markdown",
   "metadata": {},
   "source": [
    "## シェルソート"
   ]
  },
  {
   "cell_type": "code",
   "execution_count": 24,
   "metadata": {},
   "outputs": [
    {
     "name": "stdout",
     "output_type": "stream",
     "text": [
      "[6, 5, 7, 4, 3, 0, 2, 1]\n",
      "[6, 4, 7, 5, 3, 0, 2, 1]\n",
      "[3, 4, 6, 5, 7, 0, 2, 1]\n",
      "[3, 0, 6, 4, 7, 5, 2, 1]\n",
      "[2, 0, 3, 4, 6, 5, 7, 1]\n",
      "[2, 0, 3, 1, 6, 4, 7, 5]\n"
     ]
    }
   ],
   "source": [
    "my_list = [7, 5, 6, 4, 3, 0, 2, 1]\n",
    "n = len(my_list)\n",
    "interval = 2\n",
    "\n",
    "# インデックスがintervalから右側にある要素を一つずつソート\n",
    "for i in range(interval, n):\n",
    "    target = my_list[i]\n",
    "    j = i\n",
    "\n",
    "    # i番目の要素をグループ内の適切な位置に挿入\n",
    "    while j >= interval and target < my_list[j - interval]:\n",
    "        my_list[j] = my_list[j - interval]\n",
    "        j -= interval\n",
    "    my_list[j] = target\n",
    "    print(my_list)"
   ]
  },
  {
   "cell_type": "code",
   "execution_count": 28,
   "metadata": {},
   "outputs": [
    {
     "name": "stdout",
     "output_type": "stream",
     "text": [
      "インターバル = 4\n",
      "[3, 5, 6, 4, 7, 0, 2, 1]\n",
      "[3, 0, 6, 4, 7, 5, 2, 1]\n",
      "[3, 0, 2, 4, 7, 5, 6, 1]\n",
      "[3, 0, 2, 1, 7, 5, 6, 4]\n",
      "インターバル = 2\n",
      "[2, 0, 3, 1, 7, 5, 6, 4]\n",
      "[2, 0, 3, 1, 7, 5, 6, 4]\n",
      "[2, 0, 3, 1, 7, 5, 6, 4]\n",
      "[2, 0, 3, 1, 7, 5, 6, 4]\n",
      "[2, 0, 3, 1, 6, 5, 7, 4]\n",
      "[2, 0, 3, 1, 6, 4, 7, 5]\n",
      "インターバル = 1\n",
      "[0, 2, 3, 1, 6, 4, 7, 5]\n",
      "[0, 2, 3, 1, 6, 4, 7, 5]\n",
      "[0, 1, 2, 3, 6, 4, 7, 5]\n",
      "[0, 1, 2, 3, 6, 4, 7, 5]\n",
      "[0, 1, 2, 3, 4, 6, 7, 5]\n",
      "[0, 1, 2, 3, 4, 6, 7, 5]\n",
      "[0, 1, 2, 3, 4, 5, 6, 7]\n",
      "[0, 1, 2, 3, 4, 5, 6, 7]\n"
     ]
    }
   ],
   "source": [
    "def shell_sort(my_list):\n",
    "    n = len(my_list)\n",
    "    interval = n // 2\n",
    "    while interval > 0:\n",
    "        print(f\"インターバル = {interval}\")\n",
    "\n",
    "        # インデックスがinterval以降のものをソート\n",
    "        for i in range(interval, n):\n",
    "            target = my_list[i]\n",
    "            j = i\n",
    "\n",
    "            # グループ内で挿入ソートを実行する\n",
    "            while j >= interval and target < my_list[j - interval]:\n",
    "                my_list[j] = my_list[j - interval]\n",
    "                j -= interval\n",
    "            my_list[j] = target\n",
    "            print(my_list)\n",
    "        \n",
    "        interval //= 2\n",
    "\n",
    "data = [7, 5, 6, 4, 3, 0, 2, 1]\n",
    "shell_sort(data)\n",
    "print(data)"
   ]
  },
  {
   "cell_type": "markdown",
   "metadata": {},
   "source": [
    "## マージソート"
   ]
  },
  {
   "cell_type": "code",
   "execution_count": 29,
   "metadata": {},
   "outputs": [
    {
     "name": "stdout",
     "output_type": "stream",
     "text": [
      "[10, 11]\n"
     ]
    }
   ],
   "source": [
    "data = [10, 11, 12, 13]\n",
    "start_idx = 0\n",
    "end_idx = 1\n",
    "\n",
    "# ダンプして内容を確認\n",
    "print(data[start_idx: end_idx + 1])"
   ]
  },
  {
   "cell_type": "code",
   "execution_count": 32,
   "metadata": {},
   "outputs": [
    {
     "name": "stdout",
     "output_type": "stream",
     "text": [
      "[0, 1, 2, 3, 4] => [0, 1, 2], [3, 4]\n"
     ]
    }
   ],
   "source": [
    "def my_split(my_list, start_idx, end_idx):\n",
    "    # start_idx < end_idxではない場合、指定範囲の長さが1以下なので終了\n",
    "    if not (start_idx < end_idx):\n",
    "        return \n",
    "    \n",
    "    # 分割するインデックス\n",
    "    mid_idx = (start_idx + end_idx) // 2\n",
    "\n",
    "    # ダンプのためスライス構文で切り出し\n",
    "    # スライス構文は指定範囲の一つ手前までなので1を足す\n",
    "\n",
    "    # 左側(先頭 ~ mid)\n",
    "    left = my_list[start_idx: mid_idx + 1]\n",
    "\n",
    "    # 右側(mid ~ 末尾)\n",
    "    right = my_list[mid_idx + 1: end_idx + 1]\n",
    "\n",
    "    print(f\"{my_list} => {left}, {right}\")\n",
    "\n",
    "\n",
    "data = [0, 1, 2, 3, 4]\n",
    "my_split(data, 0, len(data) - 1)"
   ]
  },
  {
   "cell_type": "code",
   "execution_count": 33,
   "metadata": {},
   "outputs": [
    {
     "name": "stdout",
     "output_type": "stream",
     "text": [
      "[0, 1, 2, 3]\n"
     ]
    }
   ],
   "source": [
    "def merge(my_list, start_idx, mid_idx, end_idx):\n",
    "    # 右側, 左側をコピーしたリストを新たに生成\n",
    "    left_copy = my_list[start_idx:mid_idx + 1]\n",
    "    right_copy = my_list[mid_idx + 1:end_idx + 1]\n",
    "\n",
    "    # 元のリスト, 左コピー, 右コピーのそれぞれの0番目のインデックス\n",
    "    idx = start_idx\n",
    "    left_idx = 0\n",
    "    right_idx = 0\n",
    "    left_count = len(left_copy)\n",
    "    right_count = len(right_copy)\n",
    "\n",
    "    # 左コピー, 右コピーそれぞれ0番目から順に比較し, 小さいものを元のリストに設定\n",
    "    while left_idx < left_count and right_idx < right_count:\n",
    "        if left_copy[left_idx] <= right_copy[right_idx]:\n",
    "            # 左側要素の要素が右側以下の場合\n",
    "            # (※ ここで, 不等号にイコールが入るため不安定なソートとなる)\n",
    "            my_list[idx] = left_copy[left_idx]\n",
    "\n",
    "            idx += 1\n",
    "            left_idx += 1\n",
    "        else:\n",
    "            # 右側要素の方が小さい場合\n",
    "            my_list[idx] = right_copy[right_idx]\n",
    "\n",
    "            # インデックスを進める\n",
    "            idx += 1\n",
    "            right_idx += 1\n",
    "    \n",
    "    # 残った要素を元のデータ列に戻す\n",
    "    while left_idx < left_count:\n",
    "        my_list[idx] = left_copy[left_idx]\n",
    "        idx += 1\n",
    "        left_idx += 1\n",
    "    \n",
    "    while right_idx < right_count:\n",
    "        my_list[idx] = right_copy[right_idx]\n",
    "        idx += 1\n",
    "        right_idx += 1\n",
    "\n",
    "\n",
    "data = [1, 2, 0, 3]\n",
    "n = len(data)\n",
    "start_idx = 0\n",
    "end_idx = len(data) - 1\n",
    "mid_idx = (start_idx + end_idx) // 2\n",
    "merge(data, 0, mid_idx, n - 1)\n",
    "print(data)"
   ]
  },
  {
   "cell_type": "code",
   "execution_count": 37,
   "metadata": {},
   "outputs": [
    {
     "name": "stdout",
     "output_type": "stream",
     "text": [
      "[0, 1, 2, 3, 4, 5, 6, 7]\n"
     ]
    }
   ],
   "source": [
    "def merge_sort(my_list, start_idx, end_idx):\n",
    "    # start_idx < end_idxではない場合, 部分リストの長さが1以下なので処理終了\n",
    "    if not (start_idx < end_idx):\n",
    "        return \n",
    "    \n",
    "    # 中央のインデックスを求める\n",
    "    mid_idx = (start_idx + end_idx) // 2\n",
    "\n",
    "    # 再起的に分割する\n",
    "    merge_sort(my_list, start_idx, mid_idx)\n",
    "    merge_sort(my_list, mid_idx + 1, end_idx)\n",
    "\n",
    "    merge(my_list, start_idx, mid_idx, end_idx)\n",
    "\n",
    "data = [1, 6, 3, 4, 5, 7, 0, 2]\n",
    "merge_sort(data, 0, len(data) - 1)\n",
    "print(data)"
   ]
  },
  {
   "cell_type": "markdown",
   "metadata": {},
   "source": [
    "## クイックソート"
   ]
  },
  {
   "cell_type": "code",
   "execution_count": 40,
   "metadata": {},
   "outputs": [
    {
     "name": "stdout",
     "output_type": "stream",
     "text": [
      "[4, 3, 1, 0, 2, 5, 9, 7, 6, 8]\n",
      "パーティションインデックスの位置 5\n"
     ]
    }
   ],
   "source": [
    "def partition(my_list, start_idx, end_idx):\n",
    "    # 右端の要素をピボットとする\n",
    "    pivot = my_list[end_idx]\n",
    "    # 左端-1をパーティションインデックスの初期位置とする\n",
    "    partition_idx = start_idx - 1\n",
    "\n",
    "    for idx in range(start_idx, end_idx):\n",
    "        # 処理対象の要素\n",
    "        target = my_list[idx]\n",
    "\n",
    "        # 処理対象の要素がピボット以下\n",
    "        if target <= pivot:\n",
    "            # パーティションインデックスの位置を一つ進める\n",
    "            partition_idx = partition_idx + 1\n",
    "\n",
    "            # パーティションインデックスの位置の要素と交換\n",
    "            my_list[partition_idx], my_list[idx] = my_list[idx], my_list[partition_idx]\n",
    "\n",
    "    partition_idx = partition_idx + 1\n",
    "        \n",
    "    # ピボットをパーティションインデックスの位置の要素と交換\n",
    "    my_list[partition_idx], my_list[end_idx] = my_list[end_idx], my_list[partition_idx]\n",
    "\n",
    "    return partition_idx\n",
    "\n",
    "data = [9, 4, 3, 1, 6, 8, 0, 7, 2, 5]\n",
    "n = len(data)\n",
    "partition_idx = partition(data, 0, n - 1)\n",
    "print(data)\n",
    "print(\"パーティションインデックスの位置\", partition_idx)\n"
   ]
  },
  {
   "cell_type": "code",
   "execution_count": 41,
   "metadata": {},
   "outputs": [
    {
     "name": "stdout",
     "output_type": "stream",
     "text": [
      "[0, 1, 2, 3, 4, 5, 6, 7, 8, 9]\n"
     ]
    }
   ],
   "source": [
    "def quick_sort(my_list, start_idx, end_idx):\n",
    "    # start_idx < end_idxではない場合, 指定範囲の長さが1以下なので処理を終了\n",
    "    if not (start_idx < end_idx):\n",
    "        return\n",
    "    \n",
    "    partition_idx = partition(my_list, start_idx, end_idx)\n",
    "    quick_sort(my_list, start_idx, partition_idx - 1)\n",
    "    quick_sort(my_list, partition_idx + 1, end_idx)\n",
    "\n",
    "data = [9, 4, 3, 1, 6, 8, 0, 7, 2, 5]\n",
    "n = len(data)\n",
    "quick_sort(data, 0, n - 1)\n",
    "print(data)"
   ]
  },
  {
   "cell_type": "code",
   "execution_count": null,
   "metadata": {},
   "outputs": [],
   "source": []
  }
 ],
 "metadata": {
  "kernelspec": {
   "display_name": "Python 3",
   "language": "python",
   "name": "python3"
  },
  "language_info": {
   "codemirror_mode": {
    "name": "ipython",
    "version": 3
   },
   "file_extension": ".py",
   "mimetype": "text/x-python",
   "name": "python",
   "nbconvert_exporter": "python",
   "pygments_lexer": "ipython3",
   "version": "3.12.1"
  }
 },
 "nbformat": 4,
 "nbformat_minor": 2
}
