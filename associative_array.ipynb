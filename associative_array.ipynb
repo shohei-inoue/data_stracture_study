{
 "cells": [
  {
   "cell_type": "code",
   "execution_count": 1,
   "metadata": {},
   "outputs": [],
   "source": [
    "from string import ascii_letters\n",
    "\n",
    "def my_hash_func(text):\n",
    "    hash_num = 0\n",
    "    for c in text:\n",
    "        hash_num += ascii_letters.index(c)\n",
    "    return hash_num"
   ]
  },
  {
   "cell_type": "code",
   "execution_count": 2,
   "metadata": {},
   "outputs": [
    {
     "name": "stdout",
     "output_type": "stream",
     "text": [
      "3\n"
     ]
    }
   ],
   "source": [
    "hash_val = my_hash_func(\"abc\")\n",
    "print(hash_val)"
   ]
  },
  {
   "cell_type": "code",
   "execution_count": 3,
   "metadata": {},
   "outputs": [],
   "source": [
    "class Node:\n",
    "    def __init__(self, key=None, value=None):\n",
    "        self.key = key\n",
    "        self.value = value\n",
    "    \n",
    "    \n",
    "    def __str__(self):\n",
    "        return f\"{self.key}:{self.value}\""
   ]
  },
  {
   "cell_type": "code",
   "execution_count": 7,
   "metadata": {},
   "outputs": [],
   "source": [
    "class MyHashTable:\n",
    "    def __init__(self):\n",
    "        self.size = 100\n",
    "        self.data = [None] * self.size\n",
    "    \n",
    "    \n",
    "    def set(self, key, value):\n",
    "        hash_key = my_hash_func(key) % self.size\n",
    "        self.data[hash_key] = Node(key, value)\n",
    "    \n",
    "    \n",
    "    def get(self, key):\n",
    "        hash_key = my_hash_func(key) % self.size\n",
    "        return self.data[hash_key]\n",
    "    \n",
    "\n",
    "    def delete(self, key):\n",
    "        hash_key = my_hash_func(key) % self.size\n",
    "        self.data[hash_key] = None\n",
    "    \n",
    "\n",
    "    def __str__(self):\n",
    "        result = \"\"\n",
    "        for idx, node in enumerate(self.data):\n",
    "            if node:\n",
    "                result += f\"`{idx}: {node} \\n\"\n",
    "\n",
    "        return result"
   ]
  },
  {
   "cell_type": "code",
   "execution_count": 8,
   "metadata": {},
   "outputs": [
    {
     "name": "stdout",
     "output_type": "stream",
     "text": [
      "`39: yamada:yamada@example.com \n",
      "`42: tanaka:tanaka@example.com \n",
      "\n"
     ]
    }
   ],
   "source": [
    "my_map = MyHashTable()\n",
    "my_map.set(\"tanaka\", \"tanaka@example.com\")\n",
    "my_map.set(\"yamada\", \"yamada@example.com\")\n",
    "print(my_map)"
   ]
  },
  {
   "cell_type": "code",
   "execution_count": 9,
   "metadata": {},
   "outputs": [
    {
     "name": "stdout",
     "output_type": "stream",
     "text": [
      "mail: tanaka:tanaka@example.com\n"
     ]
    }
   ],
   "source": [
    "mail = my_map.get(\"tanaka\")\n",
    "print(f\"mail: {mail}\")"
   ]
  },
  {
   "cell_type": "markdown",
   "metadata": {},
   "source": [
    "## チェイン法"
   ]
  },
  {
   "cell_type": "code",
   "execution_count": 12,
   "metadata": {},
   "outputs": [],
   "source": [
    "class Node:\n",
    "    def __init__(self, key=None, value=None):\n",
    "        self.key = key\n",
    "        self.value = value\n",
    "        self.next = None\n",
    "    \n",
    "\n",
    "    def __str__(self):\n",
    "        if self.next:\n",
    "            return f\"{str(self.value)} - {str(self.next)}\"\n",
    "        else:\n",
    "            return str(self.value)"
   ]
  },
  {
   "cell_type": "code",
   "execution_count": 13,
   "metadata": {},
   "outputs": [
    {
     "name": "stdout",
     "output_type": "stream",
     "text": [
      "data1 - data2 - data3\n"
     ]
    }
   ],
   "source": [
    "node1 = Node(\"key1\", \"data1\")\n",
    "node2 = Node(\"key2\", \"data2\")\n",
    "node3 = Node(\"key3\", \"data3\")\n",
    "node1.next = node2\n",
    "node2.next = node3\n",
    "print(node1)"
   ]
  },
  {
   "cell_type": "code",
   "execution_count": 17,
   "metadata": {},
   "outputs": [],
   "source": [
    "class MyHashTable:\n",
    "    def __init__(self):\n",
    "        self.size = 100\n",
    "        self.data = [None] * self.size\n",
    "    \n",
    "    \n",
    "    def set(self, key, value):\n",
    "        hash_key = my_hash_func(key) % self.size\n",
    "        node = self.data[hash_key]\n",
    "\n",
    "        # データがない場合はそこに設定\n",
    "        if not node:\n",
    "            self.data[hash_key] = Node(key, value)\n",
    "            return\n",
    "        \n",
    "        # 終端までたとる\n",
    "        while node.next:\n",
    "            node = node.next\n",
    "        \n",
    "        # 終端のnextに設定\n",
    "        node.next = Node(key, value)\n",
    "    \n",
    "    \n",
    "    def get(self, key):\n",
    "        hash_key = my_hash_func(key) % self.size\n",
    "        node = self.data[hash_key]\n",
    "        if node is None:\n",
    "            print(\"データが見つかりませんでした\")\n",
    "            return \n",
    "        \n",
    "        # キーが一致するまでたどる\n",
    "        while node.key != key:\n",
    "            node = node.next\n",
    "            if node is None:\n",
    "                print(\"データが見つかりませんでした\")\n",
    "                return\n",
    "\n",
    "        return node.value    \n",
    "\n",
    "    def delete(self, key):\n",
    "        hash_key = my_hash_func(key) % self.size\n",
    "        node = self.data[hash_key]\n",
    "        if node is None:\n",
    "            print(\"データが見つかりませんでした\")\n",
    "            return\n",
    "\n",
    "        # 一つ手前のノードを保持する\n",
    "        pre_node = None\n",
    "\n",
    "        # キーが一致するまでたどる\n",
    "        while node.key != key:\n",
    "            pre_node = node\n",
    "            node = node.next\n",
    "            if node is None:\n",
    "                print(\"データが見つかりませんでした\")\n",
    "                return \n",
    "\n",
    "        pre_node.next = node.next    \n",
    "\n",
    "    def __str__(self):\n",
    "        result = \"\"\n",
    "        for idx, node in enumerate(self.data):\n",
    "            if node:\n",
    "                result += f\"`{idx}: {node} \\n\"\n",
    "\n",
    "        return result"
   ]
  },
  {
   "cell_type": "code",
   "execution_count": 16,
   "metadata": {},
   "outputs": [
    {
     "name": "stdout",
     "output_type": "stream",
     "text": [
      "`1: suzuki@example.com \n",
      "`42: nakata@example.com - tanaka@example.com - kanata@example.com \n",
      "\n",
      "nakata@example.com\n",
      "tanaka@example.com\n",
      "kanata@example.com\n"
     ]
    }
   ],
   "source": [
    "my_map = MyHashTable()\n",
    "my_map.set(\"suzuki\", \"suzuki@example.com\")\n",
    "my_map.set(\"nakata\", \"nakata@example.com\")\n",
    "my_map.set(\"tanaka\", \"tanaka@example.com\")\n",
    "my_map.set(\"kanata\", \"kanata@example.com\")\n",
    "print(my_map)\n",
    "print(my_map.get(\"nakata\"))\n",
    "print(my_map.get(\"tanaka\"))\n",
    "print(my_map.get(\"kanata\"))"
   ]
  },
  {
   "cell_type": "code",
   "execution_count": 18,
   "metadata": {},
   "outputs": [
    {
     "name": "stdout",
     "output_type": "stream",
     "text": [
      "`1: suzuki@example.com \n",
      "`42: nakata@example.com - tanaka@example.com - kanata@example.com \n",
      "\n",
      "`1: suzuki@example.com \n",
      "`42: nakata@example.com - kanata@example.com \n",
      "\n",
      "kanata@example.com\n"
     ]
    }
   ],
   "source": [
    "my_map = MyHashTable()\n",
    "my_map.set(\"suzuki\", \"suzuki@example.com\")\n",
    "my_map.set(\"nakata\", \"nakata@example.com\")\n",
    "my_map.set(\"tanaka\", \"tanaka@example.com\")\n",
    "my_map.set(\"kanata\", \"kanata@example.com\")\n",
    "print(my_map)\n",
    "my_map.delete(\"tanaka\")\n",
    "print(my_map)\n",
    "print(my_map.get(\"kanata\"))"
   ]
  },
  {
   "cell_type": "markdown",
   "metadata": {},
   "source": [
    "## パイソンの連想配列"
   ]
  },
  {
   "cell_type": "code",
   "execution_count": 19,
   "metadata": {},
   "outputs": [
    {
     "name": "stdout",
     "output_type": "stream",
     "text": [
      "{'tanaka': 'tanaka@example.com'}\n",
      "tanaka@example.com\n",
      "{}\n"
     ]
    }
   ],
   "source": [
    "my_dict = dict()\n",
    "\n",
    "my_dict[\"tanaka\"] = \"tanaka@example.com\"\n",
    "print(my_dict)\n",
    "\n",
    "mail = my_dict[\"tanaka\"]\n",
    "print(mail)\n",
    "\n",
    "del my_dict[\"tanaka\"]\n",
    "print(my_dict)"
   ]
  },
  {
   "cell_type": "code",
   "execution_count": null,
   "metadata": {},
   "outputs": [],
   "source": []
  }
 ],
 "metadata": {
  "kernelspec": {
   "display_name": "Python 3",
   "language": "python",
   "name": "python3"
  },
  "language_info": {
   "codemirror_mode": {
    "name": "ipython",
    "version": 3
   },
   "file_extension": ".py",
   "mimetype": "text/x-python",
   "name": "python",
   "nbconvert_exporter": "python",
   "pygments_lexer": "ipython3",
   "version": "3.12.1"
  }
 },
 "nbformat": 4,
 "nbformat_minor": 2
}
