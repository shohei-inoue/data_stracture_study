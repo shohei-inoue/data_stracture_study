{
 "cells": [
  {
   "cell_type": "markdown",
   "metadata": {},
   "source": [
    "## 単連結リスト"
   ]
  },
  {
   "cell_type": "code",
   "execution_count": 1,
   "metadata": {},
   "outputs": [],
   "source": [
    "# 初期化処理 ノードの作成\n",
    "class Node:\n",
    "    def __init__(self, value=None):\n",
    "        self.value = value\n",
    "        self.next = None\n",
    "    \n",
    "\n",
    "    def __str__(self):\n",
    "        return str(self.value)"
   ]
  },
  {
   "cell_type": "code",
   "execution_count": 11,
   "metadata": {},
   "outputs": [],
   "source": [
    "class SinglyLinkedList:\n",
    "    \"\"\"\n",
    "    単連結リストのクラス\n",
    "    \"\"\"\n",
    "    def __init__(self, head_value):\n",
    "        self.head = Node(head_value)\n",
    "\n",
    "    def append(self, value):\n",
    "        \"\"\"\n",
    "        要素を末尾に追加\n",
    "        \"\"\"\n",
    "        # 新たにノードを作成\n",
    "        new_node = Node(value)\n",
    "\n",
    "        # 先頭から順にリンクが設定されていないノード(終端ノード)までたどる\n",
    "        current_node = self.head\n",
    "        while current_node.next:\n",
    "            current_node = current_node.next\n",
    "        \n",
    "        # 終端ノードのnextに生成したnodeを設定する\n",
    "        current_node.next = new_node\n",
    "    \n",
    "\n",
    "    def __str__(self):\n",
    "        \"\"\"\n",
    "        単連結リストの可視化\n",
    "        \"\"\"\n",
    "        nodes = []\n",
    "        current_node = self.head\n",
    "        while current_node:\n",
    "            nodes.append(str(current_node))\n",
    "            current_node = current_node.next\n",
    "        \n",
    "        return \"-\".join(nodes)\n",
    "    \n",
    "\n",
    "    def get(self, idx):\n",
    "        \"\"\"\n",
    "        要素の取得\n",
    "        \"\"\"\n",
    "        current_node = self.head\n",
    "        current_idx = 0\n",
    "        while current_node and current_idx < idx:\n",
    "            current_node = current_node.next\n",
    "            current_idx += 1\n",
    "        \n",
    "        return current_node\n",
    "    \n",
    "\n",
    "    def insert(self, idx, value):\n",
    "        \"\"\"\n",
    "        要素の挿入\n",
    "        \"\"\"\n",
    "        new_node = Node(value)\n",
    "\n",
    "        # 先頭への挿入の場合, headを付け替え\n",
    "        if idx == 0:\n",
    "            new_node.next = self.head\n",
    "            self.head = new_node\n",
    "            return\n",
    "        \n",
    "        # 先頭以外の場合はidxの一つ前の要素を取得\n",
    "        pre_node = self.get(idx - 1)\n",
    "\n",
    "        # 指定した要素が見つからない場合は終了\n",
    "        if not pre_node:\n",
    "            print(\"Can't insert\")\n",
    "            return \n",
    "        \n",
    "        # 参照先を付け替え挿入\n",
    "        new_node.next = pre_node.next\n",
    "        pre_node.next = new_node\n",
    "    \n",
    "\n",
    "    def delete(self, idx):\n",
    "        \"\"\"\n",
    "        要素の削除\n",
    "        \"\"\"\n",
    "        # 先頭の場合、headを入れ替え\n",
    "        if idx == 0:\n",
    "            if not self.head:\n",
    "                print(\"Can't delete\")\n",
    "            else:\n",
    "                self.head = self.head.next\n",
    "            \n",
    "            return \n",
    "        \n",
    "        # 先頭以外の場合、idxの一つ前の要素と当該要素を取得\n",
    "        pre_node = self.get(idx - 1)\n",
    "        if not pre_node:\n",
    "            print(\"can't delete\")\n",
    "            return\n",
    "        \n",
    "        target_node = pre_node.next\n",
    "        if not target_node:\n",
    "            print(\"can't delete\")\n",
    "            return \n",
    "        \n",
    "        # 参照先を付け替え削除\n",
    "        pre_node.next = target_node.next\n"
   ]
  },
  {
   "cell_type": "code",
   "execution_count": 6,
   "metadata": {},
   "outputs": [
    {
     "name": "stdout",
     "output_type": "stream",
     "text": [
      "35-22-8\n",
      "35-22-8-15\n"
     ]
    }
   ],
   "source": [
    "my_list = SinglyLinkedList(35)\n",
    "my_list.append(22)\n",
    "my_list.append(8)\n",
    "print(my_list)\n",
    "my_list.append(15)\n",
    "print(my_list)"
   ]
  },
  {
   "cell_type": "code",
   "execution_count": 7,
   "metadata": {},
   "outputs": [
    {
     "name": "stdout",
     "output_type": "stream",
     "text": [
      "35 22 None\n"
     ]
    }
   ],
   "source": [
    "my_list = SinglyLinkedList(35)\n",
    "my_list.append(22)\n",
    "x = my_list.get(0)\n",
    "y = my_list.get(1)\n",
    "z = my_list.get(2)\n",
    "print(x, y, z)"
   ]
  },
  {
   "cell_type": "code",
   "execution_count": 9,
   "metadata": {},
   "outputs": [
    {
     "name": "stdout",
     "output_type": "stream",
     "text": [
      "35-22-8\n",
      "35-22-72-8\n"
     ]
    }
   ],
   "source": [
    "my_list = SinglyLinkedList(35)\n",
    "my_list.append(22)\n",
    "my_list.append(8)\n",
    "print(my_list)\n",
    "my_list.insert(2, 72)\n",
    "print(my_list)"
   ]
  },
  {
   "cell_type": "code",
   "execution_count": 12,
   "metadata": {},
   "outputs": [
    {
     "name": "stdout",
     "output_type": "stream",
     "text": [
      "35-22-8\n",
      "35-8\n"
     ]
    }
   ],
   "source": [
    "my_list = SinglyLinkedList(35)\n",
    "my_list.append(22)\n",
    "my_list.append(8)\n",
    "print(my_list)\n",
    "my_list.delete(1)\n",
    "print(my_list)"
   ]
  },
  {
   "cell_type": "code",
   "execution_count": 13,
   "metadata": {},
   "outputs": [
    {
     "name": "stdout",
     "output_type": "stream",
     "text": [
      "2\n",
      "3\n",
      "deque([2])\n"
     ]
    }
   ],
   "source": [
    "from collections import deque\n",
    "\n",
    "my_deque = deque()\n",
    "my_deque.append(1)\n",
    "my_deque.append(2)\n",
    "my_deque.append(3)\n",
    "\n",
    "print(my_deque[1])\n",
    "x = my_deque.pop()\n",
    "print(x)\n",
    "del my_deque[0]\n",
    "print(my_deque)"
   ]
  },
  {
   "cell_type": "code",
   "execution_count": null,
   "metadata": {},
   "outputs": [],
   "source": []
  }
 ],
 "metadata": {
  "kernelspec": {
   "display_name": "Python 3",
   "language": "python",
   "name": "python3"
  },
  "language_info": {
   "codemirror_mode": {
    "name": "ipython",
    "version": 3
   },
   "file_extension": ".py",
   "mimetype": "text/x-python",
   "name": "python",
   "nbconvert_exporter": "python",
   "pygments_lexer": "ipython3",
   "version": "3.12.1"
  }
 },
 "nbformat": 4,
 "nbformat_minor": 2
}
