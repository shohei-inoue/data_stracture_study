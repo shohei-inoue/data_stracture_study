{
 "cells": [
  {
   "cell_type": "code",
   "execution_count": 1,
   "metadata": {},
   "outputs": [
    {
     "name": "stdout",
     "output_type": "stream",
     "text": [
      "[1, 0, 0, 1]\n",
      "[0, 2, 1, 0]\n",
      "[1, 0, 0, 1]\n",
      "[1, 1, 0, 1]\n"
     ]
    }
   ],
   "source": [
    "X = [\n",
    "    [0, 1, 0, 0],\n",
    "    [1, 0, 0, 1],\n",
    "    [0, 1, 0, 0],\n",
    "    [0, 1, 1, 0]\n",
    "]\n",
    "\n",
    "# 結果格納用\n",
    "\n",
    "result = [\n",
    "    [0, 0, 0, 0],\n",
    "    [0, 0, 0, 0],\n",
    "    [0, 0, 0, 0],\n",
    "    [0, 0, 0, 0]\n",
    "]\n",
    "\n",
    "N = len(X)\n",
    "\n",
    "# 以下A^2を計算する\n",
    "\n",
    "# 行要項にループ\n",
    "for i in range(N):\n",
    "    for j in range(N):\n",
    "        # 要素積を足し上げてi行j列の要素を計算する\n",
    "        for k in range(N):\n",
    "            result[i][j] += X[i][k] * X[k][j]\n",
    "\n",
    "# 結果を表示\n",
    "for r in result:\n",
    "    print(r)"
   ]
  },
  {
   "cell_type": "markdown",
   "metadata": {},
   "source": [
    "## ダイクストラ法"
   ]
  },
  {
   "cell_type": "code",
   "execution_count": 2,
   "metadata": {},
   "outputs": [],
   "source": [
    "### dict型によるグラフの表現\n",
    "graph = {\n",
    "    \"A\": {\"B\": 1, \"C\": 3, \"D\": 3},\n",
    "    \"B\": {\"A\": 1, \"C\": 1},\n",
    "    \"C\": {\"A\": 3, \"B\": 1, \"E\": 4, \"F\": 5},\n",
    "    \"D\": {\"A\": 3, \"E\": 4},\n",
    "    \"E\": {\"C\": 4, \"D\": 4, \"G\": 2, \"H\": 4},\n",
    "    \"F\": {\"C\": 5, \"H\": 3},\n",
    "    \"G\": {\"E\": 2, \"H\": 1},\n",
    "    \"H\": {\"E\": 4, \"F\": 3, \"G\": 1},\n",
    "}"
   ]
  },
  {
   "cell_type": "code",
   "execution_count": 3,
   "metadata": {},
   "outputs": [],
   "source": [
    "import math\n",
    "\n",
    "def calc_shortest_path(g, start, goal):\n",
    "    # 最短経路が未確定のノード(ノードをキー, 隣接ノードとの関係を表したdict型を値とするdict型)\n",
    "    undetermined = dict(g)\n",
    "    # ノードをキー, 視点からの距離を値とするdict型\n",
    "    node_distances = dict()\n",
    "    # ノードをキー, 一つ手前のノードを値とするdict型\n",
    "    pre_nodes = dict()\n",
    "\n",
    "    # 初期値として無限大を設定する\n",
    "    for nodes in undetermined:\n",
    "        node_distances[nodes] = math.inf\n",
    "    \n",
    "    # 開始地点に0を設定\n",
    "    node_distances[start] = 0\n",
    "\n",
    "    while undetermined:\n",
    "        # 最短距離のダンプ\n",
    "        print(node_distances)\n",
    "\n",
    "        # 未確定ノードの中で始点からの中で始点からの距離が最小のものを探し, これを確定済みとする\n",
    "        minimum_node = None\n",
    "        for node in undetermined:\n",
    "            if minimum_node is None:\n",
    "                minimum_node = node\n",
    "            elif node_distances[node] < node_distances[minimum_node]:\n",
    "                minimum_node\n",
    "        \n",
    "        # 確定したノードから直接繋がっている未確定ノードに対し始点からの距離を更新する\n",
    "        for node, distance in undetermined[minimum_node].items():\n",
    "            if distance + node_distances[minimum_node] < node_distances[node]:\n",
    "                # 始点からの距離を更新\n",
    "                node_distances[node] = distance + node_distances[minimum_node]\n",
    "                # 始点からそのノードに最短経路でたどる場合の直前のノードを格納\n",
    "                pre_nodes[node] = minimum_node\n",
    "        \n",
    "        # minimum_nodeが確定したので未確定の中から削除する\n",
    "        undetermined.pop(minimum_node)\n",
    "\n",
    "    # pre_nodesに基づき目的地から逆に最短経路を構築\n",
    "    node = goal\n",
    "    shortest_path = []\n",
    "    while node != start:\n",
    "        shortest_path.insert(0, node)\n",
    "        node = pre_nodes[node]\n",
    "    \n",
    "    shortest_path.insert(0, start)\n",
    "\n",
    "    if node_distances[goal] != math.inf:\n",
    "        print(f\"最短経路: {shortest_path}\")\n",
    "        print(f\"最短距離: {node_distances[goal]}\")"
   ]
  },
  {
   "cell_type": "code",
   "execution_count": 4,
   "metadata": {},
   "outputs": [
    {
     "name": "stdout",
     "output_type": "stream",
     "text": [
      "{'A': 0, 'B': inf, 'C': inf, 'D': inf, 'E': inf, 'F': inf, 'G': inf, 'H': inf}\n",
      "{'A': 0, 'B': 1, 'C': 3, 'D': 3, 'E': inf, 'F': inf, 'G': inf, 'H': inf}\n",
      "{'A': 0, 'B': 1, 'C': 2, 'D': 3, 'E': inf, 'F': inf, 'G': inf, 'H': inf}\n",
      "{'A': 0, 'B': 1, 'C': 2, 'D': 3, 'E': 6, 'F': 7, 'G': inf, 'H': inf}\n",
      "{'A': 0, 'B': 1, 'C': 2, 'D': 3, 'E': 6, 'F': 7, 'G': inf, 'H': inf}\n",
      "{'A': 0, 'B': 1, 'C': 2, 'D': 3, 'E': 6, 'F': 7, 'G': 8, 'H': 10}\n",
      "{'A': 0, 'B': 1, 'C': 2, 'D': 3, 'E': 6, 'F': 7, 'G': 8, 'H': 10}\n",
      "{'A': 0, 'B': 1, 'C': 2, 'D': 3, 'E': 6, 'F': 7, 'G': 8, 'H': 9}\n",
      "最短経路: ['A', 'B', 'C', 'E', 'G', 'H']\n",
      "最短距離: 9\n"
     ]
    }
   ],
   "source": [
    "graph = {\n",
    "    \"A\": {\"B\": 1, \"C\": 3, \"D\": 3},\n",
    "    \"B\": {\"A\": 1, \"C\": 1},\n",
    "    \"C\": {\"A\": 3, \"B\": 1, \"E\": 4, \"F\": 5},\n",
    "    \"D\": {\"A\": 3, \"E\": 4},\n",
    "    \"E\": {\"C\": 4, \"D\": 4, \"G\": 2, \"H\": 4},\n",
    "    \"F\": {\"C\": 5, \"H\": 3},\n",
    "    \"G\": {\"E\": 2, \"H\": 1},\n",
    "    \"H\": {\"E\": 4, \"F\": 3, \"G\": 1},\n",
    "}\n",
    "\n",
    "calc_shortest_path(graph, \"A\", \"H\")"
   ]
  },
  {
   "cell_type": "code",
   "execution_count": null,
   "metadata": {},
   "outputs": [],
   "source": []
  }
 ],
 "metadata": {
  "kernelspec": {
   "display_name": "Python 3",
   "language": "python",
   "name": "python3"
  },
  "language_info": {
   "codemirror_mode": {
    "name": "ipython",
    "version": 3
   },
   "file_extension": ".py",
   "mimetype": "text/x-python",
   "name": "python",
   "nbconvert_exporter": "python",
   "pygments_lexer": "ipython3",
   "version": "3.12.1"
  }
 },
 "nbformat": 4,
 "nbformat_minor": 2
}
