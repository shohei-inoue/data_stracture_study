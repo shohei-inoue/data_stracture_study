{
 "cells": [
  {
   "cell_type": "markdown",
   "metadata": {},
   "source": [
    "## 線形探索"
   ]
  },
  {
   "cell_type": "code",
   "execution_count": 1,
   "metadata": {},
   "outputs": [
    {
     "name": "stdout",
     "output_type": "stream",
     "text": [
      "2番目に見つかりました\n"
     ]
    }
   ],
   "source": [
    "def my_liner_search(my_list, val):\n",
    "    for i, n in enumerate(my_list):\n",
    "        if n == val:\n",
    "            print(f\"{i}番目に見つかりました\")\n",
    "            return\n",
    "    else:\n",
    "        print(\"見つかりませんでした\")\n",
    "\n",
    "l = [1, 5, 3, 7, 2]\n",
    "my_liner_search(l, 3)\n"
   ]
  },
  {
   "cell_type": "markdown",
   "metadata": {},
   "source": [
    "## 番兵法"
   ]
  },
  {
   "cell_type": "code",
   "execution_count": 2,
   "metadata": {},
   "outputs": [
    {
     "name": "stdout",
     "output_type": "stream",
     "text": [
      "2番目に見つかりました\n",
      "見つかりませんでした\n"
     ]
    }
   ],
   "source": [
    "def my_liner_search2(my_list, val):\n",
    "    idx = 0\n",
    "    n = len(my_list)\n",
    "\n",
    "    while idx < n:\n",
    "        if my_list[idx] == val:\n",
    "            print(f\"{idx}番目に見つかりました\")\n",
    "            return\n",
    "        idx += 1\n",
    "    \n",
    "    else:\n",
    "        print(\"見つかりませんでした\")\n",
    "\n",
    "l = [1, 5, 3, 7, 2]\n",
    "my_liner_search2(l, 3)\n",
    "my_liner_search2(l, 6)"
   ]
  },
  {
   "cell_type": "code",
   "execution_count": 3,
   "metadata": {},
   "outputs": [
    {
     "name": "stdout",
     "output_type": "stream",
     "text": [
      "2番目に見つかりました\n",
      "見つかりませんでした\n"
     ]
    }
   ],
   "source": [
    "def my_liner_search_sentinel(my_list, val):\n",
    "    idx = 0\n",
    "    n = len(my_list)\n",
    "\n",
    "    # 番兵を末尾に追加\n",
    "    my_list.append(val)\n",
    "\n",
    "    while True:\n",
    "        if my_list[idx] == val:\n",
    "            break\n",
    "        idx += 1\n",
    "    \n",
    "    if idx == n:\n",
    "        print(\"見つかりませんでした\")\n",
    "    else:\n",
    "        print(f\"{idx}番目に見つかりました\")\n",
    "\n",
    "l = [1, 5, 3, 7, 2]\n",
    "my_liner_search_sentinel(l, 3)\n",
    "my_liner_search_sentinel(l, 6)"
   ]
  },
  {
   "cell_type": "markdown",
   "metadata": {},
   "source": [
    "## 二分探索"
   ]
  },
  {
   "cell_type": "code",
   "execution_count": 6,
   "metadata": {},
   "outputs": [
    {
     "name": "stdout",
     "output_type": "stream",
     "text": [
      "[1, 2, 5, 7, 9, 15, 21, 22, 25, 28, 31, 35]\n",
      "[21, 22, 25, 28, 31, 35]\n",
      "[21, 22]\n",
      "[22]\n",
      "7番目に見つかりました\n"
     ]
    }
   ],
   "source": [
    "def my_binary_search(data_list, target):\n",
    "    left = 0\n",
    "    right = len(data_list) - 1\n",
    "\n",
    "    while left <= right:\n",
    "        print(data_list[left: right + 1])\n",
    "\n",
    "        # left ~ rightの中央を求める\n",
    "        mid = (right + left) // 2 \n",
    "        \n",
    "        # 範囲の中央の値が対象データより小さい場合, 範囲を右側に狭める\n",
    "        if data_list[mid] < target:\n",
    "            left = mid + 1\n",
    "        \n",
    "        # 範囲の中央の値が対象データより大きい場合, 範囲を左側に狭める\n",
    "        elif data_list[mid] > target:\n",
    "            right = mid - 1\n",
    "\n",
    "        # 一致する場合\n",
    "        else:\n",
    "            print(f\"{mid}番目に見つかりました\")\n",
    "            return\n",
    "        \n",
    "    print(\"見つかりませんでした\")\n",
    "\n",
    "my_binary_search([1, 2, 5, 7, 9, 15, 21, 22, 25, 28, 31, 35], 22)\n"
   ]
  },
  {
   "cell_type": "code",
   "execution_count": 7,
   "metadata": {},
   "outputs": [
    {
     "name": "stdout",
     "output_type": "stream",
     "text": [
      "[1, 2, 2, 2, 2, 3, 4, 5]\n",
      "3番目に見つかりました\n",
      "2\n",
      "1\n"
     ]
    }
   ],
   "source": [
    "## 重複がある場合の最初のインデックスの特定\n",
    "\n",
    "my_binary_search([1, 2, 2, 2, 2, 3, 4, 5], 2)\n",
    "\n",
    "def get_first_idx(my_list, idx):\n",
    "    while my_list[idx] == my_list[idx - 1]:\n",
    "        idx -= 1\n",
    "        print(idx)\n",
    "\n",
    "get_first_idx([1, 2, 2, 2, 2, 3, 4, 5], 3)"
   ]
  },
  {
   "cell_type": "markdown",
   "metadata": {},
   "source": [
    "## pythonのlistに含まれる探索メソッド"
   ]
  },
  {
   "cell_type": "code",
   "execution_count": 10,
   "metadata": {},
   "outputs": [
    {
     "name": "stdout",
     "output_type": "stream",
     "text": [
      "True\n",
      "1\n",
      "5\n"
     ]
    }
   ],
   "source": [
    "my_list = [6, 1, 4, 3, 2, 9, 8, 5, 10, 7]\n",
    "\n",
    "# 存在判定\n",
    "is_contained = (3 in my_list)\n",
    "print(is_contained)\n",
    "\n",
    "# 指定した値の要素数\n",
    "count = my_list.count(9)\n",
    "print(count)\n",
    "\n",
    "# 指定した値の最初のインデックス\n",
    "index = my_list.index(9)\n",
    "print(index)"
   ]
  },
  {
   "cell_type": "code",
   "execution_count": null,
   "metadata": {},
   "outputs": [],
   "source": []
  }
 ],
 "metadata": {
  "kernelspec": {
   "display_name": "Python 3",
   "language": "python",
   "name": "python3"
  },
  "language_info": {
   "codemirror_mode": {
    "name": "ipython",
    "version": 3
   },
   "file_extension": ".py",
   "mimetype": "text/x-python",
   "name": "python",
   "nbconvert_exporter": "python",
   "pygments_lexer": "ipython3",
   "version": "3.12.1"
  }
 },
 "nbformat": 4,
 "nbformat_minor": 2
}
