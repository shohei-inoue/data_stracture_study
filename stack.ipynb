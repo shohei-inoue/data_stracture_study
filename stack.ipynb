{
 "cells": [
  {
   "cell_type": "code",
   "execution_count": 3,
   "metadata": {},
   "outputs": [],
   "source": [
    "class MyStack:\n",
    "    \"\"\"\n",
    "    stack\n",
    "    \"\"\"\n",
    "    def __init__(self):\n",
    "        self.data = []\n",
    "    \n",
    "\n",
    "    def push(self, value):\n",
    "        self.data.append(value)\n",
    "    \n",
    "\n",
    "    def pop(self):\n",
    "        return self.data.pop()\n",
    "    \n",
    "\n",
    "    def __str__(self):\n",
    "        return str(self.data)"
   ]
  },
  {
   "cell_type": "code",
   "execution_count": 4,
   "metadata": {},
   "outputs": [
    {
     "name": "stdout",
     "output_type": "stream",
     "text": [
      "['a']\n",
      "['a', 'b']\n",
      "['a', 'b', 'c']\n",
      "['a', 'b']\n",
      "['a']\n",
      "[]\n",
      "c b a\n"
     ]
    }
   ],
   "source": [
    "my_stack = MyStack()\n",
    "\n",
    "my_stack.push(\"a\")\n",
    "print(my_stack)\n",
    "my_stack.push(\"b\")\n",
    "print(my_stack)\n",
    "my_stack.push(\"c\")\n",
    "print(my_stack)\n",
    "\n",
    "val1 = my_stack.pop()\n",
    "print(my_stack)\n",
    "val2 = my_stack.pop()\n",
    "print(my_stack)\n",
    "val3 = my_stack.pop()\n",
    "print(my_stack)\n",
    "\n",
    "print(val1, val2, val3)"
   ]
  },
  {
   "cell_type": "code",
   "execution_count": 5,
   "metadata": {},
   "outputs": [],
   "source": [
    "## 固定長のスタック実装\n",
    "class MyStack:\n",
    "    \"\"\"\n",
    "    固定長のスタック\n",
    "    \"\"\"\n",
    "    def __init__(self, N):\n",
    "        self.N = N\n",
    "        self.stack = [None] * N\n",
    "        self.pointer = 0\n",
    "    \n",
    "\n",
    "    def push(self, value):\n",
    "        if self.N <= self.pointer:\n",
    "            # スタックがいっぱいの場合はpush失敗\n",
    "            print(\"スタックがいっぱいなのでpushできません。\")\n",
    "            return\n",
    "        \n",
    "        self.stack[self.pointer] = value\n",
    "        self.pointer += 1\n",
    "    \n",
    "\n",
    "    def pop(self):\n",
    "        if self.pointer == 0:\n",
    "            print(\"スタックに要素がないのでpopできません。\")\n",
    "            return \n",
    "        \n",
    "        value = self.stack[self.pointer - 1]\n",
    "        self.stack[self.pointer - 1] = None\n",
    "        self.pointer -= 1\n",
    "        return value\n",
    "    \n",
    "    \n",
    "    def __str__(self):\n",
    "        return str(self.stack)"
   ]
  },
  {
   "cell_type": "code",
   "execution_count": 6,
   "metadata": {},
   "outputs": [
    {
     "name": "stdout",
     "output_type": "stream",
     "text": [
      "['a', None, None, None]\n",
      "['a', 'b', None, None]\n",
      "['a', 'b', 'c', None]\n",
      "['a', 'b', None, None]\n",
      "['a', None, None, None]\n",
      "[None, None, None, None]\n",
      "c b a\n"
     ]
    }
   ],
   "source": [
    "my_stack = MyStack(4)\n",
    "\n",
    "my_stack.push(\"a\")\n",
    "print(my_stack)\n",
    "my_stack.push(\"b\")\n",
    "print(my_stack)\n",
    "my_stack.push(\"c\")\n",
    "print(my_stack)\n",
    "\n",
    "val1 = my_stack.pop()\n",
    "print(my_stack)\n",
    "val2 = my_stack.pop()\n",
    "print(my_stack)\n",
    "val3 = my_stack.pop()\n",
    "print(my_stack)\n",
    "\n",
    "print(val1, val2, val3)"
   ]
  },
  {
   "cell_type": "markdown",
   "metadata": {},
   "source": [
    "## 構造解析"
   ]
  },
  {
   "cell_type": "code",
   "execution_count": 8,
   "metadata": {},
   "outputs": [
    {
     "name": "stdout",
     "output_type": "stream",
     "text": [
      "NG\n"
     ]
    }
   ],
   "source": [
    "class MyStack:\n",
    "    def __init__(self):\n",
    "        self.data = []\n",
    "    \n",
    "\n",
    "    def push(self, value):\n",
    "        self.data.append(value)\n",
    "    \n",
    "\n",
    "    def pop(self):\n",
    "        return self.data.pop()\n",
    "\n",
    "\n",
    "    def __str__(self):\n",
    "        return str(self.data)\n",
    "\n",
    "\n",
    "def check_parentheses(text):\n",
    "    \"\"\"\n",
    "    構造が違う場合false\n",
    "    要素が0だった場合false\n",
    "    \"\"\"\n",
    "    stack = MyStack()\n",
    "    for c in text:\n",
    "        if c == '(':\n",
    "            stack.push(c)\n",
    "        \n",
    "        if c == ')':\n",
    "            try:\n",
    "                stack.pop()\n",
    "            except IndexError:\n",
    "                return False\n",
    "    \n",
    "    if len(stack.data) == 0:\n",
    "        return True\n",
    "    else:\n",
    "        return False\n",
    "\n",
    "\n",
    "def main():\n",
    "    my_text = '(1, 5, 7, (3, 4, 8), (2, 9, 8)'\n",
    "    result = check_parentheses(my_text)\n",
    "    if result:\n",
    "        print(\"OK\")\n",
    "    else:\n",
    "        print(\"NG\")\n",
    "\n",
    "\n",
    "main()"
   ]
  },
  {
   "cell_type": "code",
   "execution_count": null,
   "metadata": {},
   "outputs": [],
   "source": []
  }
 ],
 "metadata": {
  "kernelspec": {
   "display_name": "Python 3",
   "language": "python",
   "name": "python3"
  },
  "language_info": {
   "codemirror_mode": {
    "name": "ipython",
    "version": 3
   },
   "file_extension": ".py",
   "mimetype": "text/x-python",
   "name": "python",
   "nbconvert_exporter": "python",
   "pygments_lexer": "ipython3",
   "version": "3.12.1"
  }
 },
 "nbformat": 4,
 "nbformat_minor": 2
}
