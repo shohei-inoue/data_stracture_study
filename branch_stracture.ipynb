{
 "cells": [
  {
   "cell_type": "markdown",
   "metadata": {},
   "source": [
    "## 初期化処理"
   ]
  },
  {
   "cell_type": "code",
   "execution_count": 1,
   "metadata": {},
   "outputs": [],
   "source": [
    "class Node:\n",
    "    def __init__(self, key, value, is_left=None):\n",
    "        self.key = key\n",
    "        self.value = value\n",
    "        self.left = None\n",
    "        self.right = None\n",
    "        self.is_left = is_left\n",
    "    \n",
    "\n",
    "    def __str__(self):\n",
    "        return f\"{str(self.key)}:{str(self.value)}\" "
   ]
  },
  {
   "cell_type": "code",
   "execution_count": null,
   "metadata": {},
   "outputs": [],
   "source": [
    "class MyBsTree:\n",
    "    def __init__(self):\n",
    "        self.root = None\n",
    "    \n",
    "\n",
    "    def add(self, key, value):\n",
    "        # rootがない場合はrootに設定\n",
    "        if self.root is None:\n",
    "            self.root = Node(key, value)\n",
    "            return \n",
    "        else:\n",
    "            self._add_node(self.root, key, value)\n",
    "    \n",
    "\n",
    "    def _add_node(self, node: Node, key, value):\n",
    "        if key < node.key:\n",
    "            # 指定したキーが現在のノードのキーより小さい場合\n",
    "            if not node.left:\n",
    "                # 左側に空きがあればそこに設定\n",
    "                node.left = Node(key, value, is_left=True)\n",
    "                return \n",
    "            else:\n",
    "                # 左側に空きがなければ左側を再起的にたどる\n",
    "                self._add_node(node.left, key, value)\n",
    "\n",
    "        elif key > node.key:\n",
    "            # 指定したキーが現在のノードのキーより大きい場合\n",
    "            if not node.right:\n",
    "                node.right = Node(key, value, is_left=False)\n",
    "                return\n",
    "            else:\n",
    "                # 右側に空きがなければ右側に再起的にたどる\n",
    "                self._add_node(node.right, key, value)\n",
    "        else:\n",
    "            print(f\"{key} : 指定したキーはすでに存在するため追加できませんでした\")\n",
    "            return\n",
    "            \n"
   ]
  }
 ],
 "metadata": {
  "kernelspec": {
   "display_name": "Python 3",
   "language": "python",
   "name": "python3"
  },
  "language_info": {
   "codemirror_mode": {
    "name": "ipython",
    "version": 3
   },
   "file_extension": ".py",
   "mimetype": "text/x-python",
   "name": "python",
   "nbconvert_exporter": "python",
   "pygments_lexer": "ipython3",
   "version": "3.12.1"
  }
 },
 "nbformat": 4,
 "nbformat_minor": 2
}
