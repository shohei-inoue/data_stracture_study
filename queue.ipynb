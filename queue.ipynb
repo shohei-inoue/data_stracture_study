{
 "cells": [
  {
   "cell_type": "code",
   "execution_count": 1,
   "metadata": {},
   "outputs": [],
   "source": [
    "class MyQueue:\n",
    "    def __init__(self):\n",
    "        self.que = []\n",
    "    \n",
    "    def enqueue(self, value):\n",
    "        self.que.append(value)\n",
    "    \n",
    "\n",
    "    def dequeue(self):\n",
    "        return self.que.pop(0)\n",
    "    \n",
    "\n",
    "    def __str__(self):\n",
    "        return str(self.que)"
   ]
  },
  {
   "cell_type": "code",
   "execution_count": 2,
   "metadata": {},
   "outputs": [
    {
     "name": "stdout",
     "output_type": "stream",
     "text": [
      "['a']\n",
      "['a', 'b']\n",
      "['a', 'b', 'c']\n",
      "['b', 'c']\n",
      "['c']\n",
      "[]\n",
      "a b c\n"
     ]
    }
   ],
   "source": [
    "q = MyQueue()\n",
    "\n",
    "q.enqueue('a')\n",
    "print(q)\n",
    "q.enqueue('b')\n",
    "print(q)\n",
    "q.enqueue('c')\n",
    "print(q)\n",
    "\n",
    "val1 = q.dequeue()\n",
    "print(q)\n",
    "val2 = q.dequeue()\n",
    "print(q)\n",
    "val3 = q.dequeue()\n",
    "print(q)\n",
    "\n",
    "print(val1, val2, val3)"
   ]
  },
  {
   "cell_type": "markdown",
   "metadata": {},
   "source": [
    "## 固定長配列の場合のqueueの実装"
   ]
  },
  {
   "cell_type": "code",
   "execution_count": 3,
   "metadata": {},
   "outputs": [],
   "source": [
    "class MyQueue:\n",
    "    def __init__(self, N):\n",
    "        self.N = N\n",
    "        self.que = [None] * N\n",
    "        self.head = 0 # キューの先頭\n",
    "        self.tail = 0 # キューの末尾\n",
    "        self.count = 0\n",
    "    \n",
    "\n",
    "    def enqueue(self, value):\n",
    "        if self.count == self.N:\n",
    "            # キューがいっぱいの場合はエンキュー失敗\n",
    "            print(\"キューがいっぱいなのでエンキューできません\")\n",
    "            return\n",
    "        \n",
    "        # キューの最後尾に値を設定\n",
    "        self.que[self.tail] = value\n",
    "        \n",
    "        # データ件数の追加\n",
    "        self.count += 1\n",
    "\n",
    "        # キューの最後尾の位置を一つ後ろにずらす\n",
    "        self.tail = (self.tail + 1) % self.N\n",
    "\n",
    "    def dequeue(self):\n",
    "        # キューに要素がない場合はデキュー失敗\n",
    "        if self.count == 0:\n",
    "            print(\"キューに要素がないのででキューできません\")\n",
    "            return \n",
    "        \n",
    "        # キューの先頭からデータを取り出す\n",
    "        value = self.que[self.head]\n",
    "        self.que[self.head] = None\n",
    "\n",
    "        # データ件数を-1\n",
    "        self.count -= 1\n",
    "\n",
    "        # 先頭の位置を一つ進める\n",
    "        self.head = (self.head + 1) % self.N\n",
    "\n",
    "        # 取り出した値を返す\n",
    "        return value\n",
    "    \n",
    "\n",
    "    def __str__(self):\n",
    "        return f\"(head:{self.head}, tail:{self.tail}), {self.que}\""
   ]
  },
  {
   "cell_type": "code",
   "execution_count": 4,
   "metadata": {},
   "outputs": [
    {
     "name": "stdout",
     "output_type": "stream",
     "text": [
      "(head:0, tail:1), ['a', None, None, None]\n",
      "(head:0, tail:2), ['a', 'b', None, None]\n",
      "(head:0, tail:3), ['a', 'b', 'c', None]\n",
      "(head:1, tail:3), [None, 'b', 'c', None]\n",
      "(head:2, tail:3), [None, None, 'c', None]\n",
      "(head:2, tail:1), ['e', None, 'c', 'd']\n",
      "(head:0, tail:1), ['e', None, None, None]\n"
     ]
    }
   ],
   "source": [
    "q = MyQueue(4)\n",
    "q.enqueue(\"a\")\n",
    "print(q)\n",
    "q.enqueue(\"b\")\n",
    "print(q)\n",
    "q.enqueue(\"c\")\n",
    "print(q)\n",
    "\n",
    "a = q.dequeue()\n",
    "print(q)\n",
    "\n",
    "b = q.dequeue()\n",
    "print(q)\n",
    "\n",
    "q.enqueue(\"d\")\n",
    "q.enqueue(\"e\")\n",
    "print(q)\n",
    "\n",
    "c = q.dequeue()\n",
    "d = q.dequeue()\n",
    "print(q)"
   ]
  },
  {
   "cell_type": "markdown",
   "metadata": {},
   "source": [
    "## 非同期処理でキューを渡す(マルチスレッド)"
   ]
  },
  {
   "cell_type": "code",
   "execution_count": 5,
   "metadata": {},
   "outputs": [
    {
     "name": "stdout",
     "output_type": "stream",
     "text": [
      "全体処理開始\n",
      "producer: データ追加処理開始\n",
      "producer: データ追加完了\n",
      "worker, データ1の処理を開始します\n",
      "worker, データ2の処理を開始します\n",
      "worker, データ1の処理を終了します\n",
      "worker, データ3の処理を開始します\n",
      "worker, データ2の処理を終了します\n",
      "worker, データ4の処理を開始します\n",
      "worker, データ3の処理を終了します\n",
      "worker, データ4の処理を終了します\n",
      "全体処理終了: 7.01495320815593\n"
     ]
    }
   ],
   "source": [
    "import threading\n",
    "import queue\n",
    "import time\n",
    "\n",
    "q = queue.Queue()\n",
    "\n",
    "def producer():\n",
    "    \"\"\"キューに処理対象データを追加\"\"\"\n",
    "    print(\"producer: データ追加処理開始\")\n",
    "    # データをエンキュー\n",
    "    # (nは勝利に要する時間で順番に実行すると処理時間は14秒かかる)\n",
    "    q.put({\"task\": \"データ1\", \"n\": 2})\n",
    "    q.put({\"task\": \"データ2\", \"n\": 3})\n",
    "    q.put({\"task\": \"データ3\", \"n\": 5})\n",
    "    q.put({\"task\": \"データ4\", \"n\": 4})\n",
    "    print(\"producer: データ追加完了\")\n",
    "\n",
    "\n",
    "def worker():\n",
    "    \"\"\"キューからデータを取り出して処理を実行\"\"\"\n",
    "    while True:\n",
    "        item = q.get()\n",
    "        if item is None:\n",
    "            break\n",
    "        print(f\"worker, {item.get(\"task\")}の処理を開始します\")\n",
    "        time.sleep(item.get(\"n\")) # ダミー処理\n",
    "        print(f\"worker, {item.get(\"task\")}の処理を終了します\")\n",
    "        q.task_done()\n",
    "\n",
    "\n",
    "def main():\n",
    "    print(\"全体処理開始\")\n",
    "    start_time = time.perf_counter()\n",
    "\n",
    "    # producerのスレッドを起動\n",
    "    pt = threading.Thread(target=producer)\n",
    "    pt.start()\n",
    "\n",
    "    # workerのスレッドを2つ起動\n",
    "    wts: list[threading.Thread] = []\n",
    "    for _ in range(2):\n",
    "        t = threading.Thread(target=worker)\n",
    "        t.start()\n",
    "        wts.append(t)\n",
    "    \n",
    "    # キューがからになるまで処理をブロック\n",
    "    q.join()\n",
    "    # thread数分Noneをpushして各workerのthreadを終了\n",
    "    for _ in range(len(wts)):\n",
    "        q.put(None)\n",
    "    \n",
    "    # 各スレッドが終了するまで待機\n",
    "    pt.join()\n",
    "    [t.join() for t in wts]\n",
    "\n",
    "    # 処理時間を表示\n",
    "    end_time = time.perf_counter()\n",
    "    elapsed_time = end_time - start_time\n",
    "    print(f\"全体処理終了: {elapsed_time}\")\n",
    "\n",
    "main()"
   ]
  },
  {
   "cell_type": "markdown",
   "metadata": {},
   "source": [
    "## 両端キューの使用(データ列の両側からデータの追加, 取り出しが可能なデータ構造 → stack, queueどちらにも対応)"
   ]
  },
  {
   "cell_type": "code",
   "execution_count": 6,
   "metadata": {},
   "outputs": [
    {
     "name": "stdout",
     "output_type": "stream",
     "text": [
      "deque([4, 3, 1, 2])\n",
      "2 4\n"
     ]
    }
   ],
   "source": [
    "from collections import deque\n",
    "\n",
    "my_deque = deque()\n",
    "my_deque.append(1)\n",
    "my_deque.append(2)\n",
    "my_deque.appendleft(3)\n",
    "my_deque.appendleft(4)\n",
    "\n",
    "print(my_deque)\n",
    "x = my_deque.pop()\n",
    "y = my_deque.popleft()\n",
    "\n",
    "print(x, y)"
   ]
  }
 ],
 "metadata": {
  "kernelspec": {
   "display_name": "Python 3",
   "language": "python",
   "name": "python3"
  },
  "language_info": {
   "codemirror_mode": {
    "name": "ipython",
    "version": 3
   },
   "file_extension": ".py",
   "mimetype": "text/x-python",
   "name": "python",
   "nbconvert_exporter": "python",
   "pygments_lexer": "ipython3",
   "version": "3.12.1"
  }
 },
 "nbformat": 4,
 "nbformat_minor": 2
}
